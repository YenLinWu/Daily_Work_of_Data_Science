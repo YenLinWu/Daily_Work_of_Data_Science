{
  "nbformat": 4,
  "nbformat_minor": 0,
  "metadata": {
    "colab": {
      "provenance": [],
      "collapsed_sections": [
        "ripu2UQaKSk-"
      ],
      "authorship_tag": "ABX9TyPkeyJ+ZnT5mOQZmkCsg5el",
      "include_colab_link": true
    },
    "kernelspec": {
      "name": "python3",
      "display_name": "Python 3"
    },
    "language_info": {
      "name": "python"
    }
  },
  "cells": [
    {
      "cell_type": "markdown",
      "metadata": {
        "id": "view-in-github",
        "colab_type": "text"
      },
      "source": [
        "<a href=\"https://colab.research.google.com/github/YenLinWu/Daily_Work_of_Data_Science/blob/Dev/R2/R2.ipynb\" target=\"_parent\"><img src=\"https://colab.research.google.com/assets/colab-badge.svg\" alt=\"Open In Colab\"/></a>"
      ]
    },
    {
      "cell_type": "markdown",
      "source": [
        "# 前言\n",
        "\n",
        "在迴歸問題中，<font color=\"#dddd00\">判定係數(Coefficient of Determination) $R^2$ </font> 係用來衡量機器學習模型表現的指標之一，它代表從自變數 $X$ 可以解釋依變數 $Y$ 變異的比例，換句話說， $R^2$ 是用來評量模型解釋資料變異的能力表現。"
      ],
      "metadata": {
        "id": "VnU0DfxbfC4i"
      }
    },
    {
      "cell_type": "markdown",
      "source": [
        "# 數學定義   \n",
        "$R^2$ 的定義如下:    \n",
        "\n",
        "\\begin{aligned}\n",
        "R^2 &\\equiv 1 - \\frac{\\text{Sum of Squares due to Error, SSE}}{\\text{Total Sum of Squares, SST}} \\\\&= 1 - \\frac{\\displaystyle \\sum_{i=1}^{k} (y_i-\\hat y_i)^2}{\\displaystyle \\sum_{i=1}^{k} (y_i-\\bar y)^2}  \\in (-\\infty, 1].\n",
        "\\end{aligned}  \n",
        "  "
      ],
      "metadata": {
        "id": "pc5LPCSmFfXW"
      }
    },
    {
      "cell_type": "markdown",
      "source": [
        "# $R^2$ 的概念\n",
        "\n",
        "- $R^2$ 為評估模型解釋資料變異的能力指標 :  \n",
        "  - 判定係數 $R^2$ 越近似 $1$，表示模型解釋資料變異的能力越好。\n",
        "  - <font color=\"#dddd00\">判定係數 $R^2$ 越近似 $1$，不能表示模型的預測能力越好。</font>  \n",
        "  \n",
        "    <p align=\"left\">\n",
        "    <img width=\"500\" src=\"https://raw.githubusercontent.com/YenLinWu/Daily_Work_of_Data_Science/Dev/R2/imgs/Overfitting.png\">\n",
        "    </p>  \n",
        "    \n",
        "    圖片來源 : [https://allmodelsarewrong.github.io/overfit.html](https://allmodelsarewrong.github.io/overfit.html)"
      ],
      "metadata": {
        "id": "HQfp5kTKoJG0"
      }
    },
    {
      "cell_type": "markdown",
      "source": [
        "# $R^2$ 的解讀\n",
        "\n",
        "$R^2$ 的值域區間為 $(-\\infty, 1]$。     \n",
        "- 若我們使用線性迴歸模型，則 $R^2 \\in [0, 1]$；  \n",
        "- 若我們使用機器學習模型，例如 : 樹模型、集成模型等，則 $R^2 \\in (-\\infty, 1]$ :  \n",
        "  - 若 $R^2 < 0$，表示此機器學習模型的解釋能力不佳，不如用平均值來解釋資料的變異。  \n",
        "  - 若 $R^2 = -\\infty$，則有下列兩種可能的情況須確認 :  \n",
        "    (i) 目標變數的數據可能為常數，須確認資料的正確性與合理性；   \n",
        "    (ii) 若資料正確且合理無誤，代表我們選用的機器學習模型，完全無法解釋資料的變異，建議嘗試其他的機器學習模型。   \n",
        "\n",
        "    <p align=\"left\">\n",
        "    <img width=\"700\" src=\"https://raw.githubusercontent.com/YenLinWu/Daily_Work_of_Data_Science/Dev/R2/imgs/Example_of_r2.png\">\n",
        "    </p>  \n",
        "\n",
        "    "
      ],
      "metadata": {
        "id": "y9CRJIMIFzgm"
      }
    },
    {
      "cell_type": "markdown",
      "source": [
        "# Python 範例  \n",
        "\n",
        "當模型訓練完成後，我們可使用 [sklearn.metrics.r2_score(y_true, y_pred)](https://scikit-learn.org/stable/modules/generated/sklearn.metrics.r2_score.html#sklearn-metrics-r2-score) 函數，來計算模型的判定係數 $R^2$，以評估模型解釋資料變異的能力。"
      ],
      "metadata": {
        "id": "ripu2UQaKSk-"
      }
    },
    {
      "cell_type": "code",
      "source": [
        "# 匯入套件\n",
        "import sys\n",
        "\n",
        "import numpy as np\n",
        "import pandas as pd\n",
        "import matplotlib\n",
        "import matplotlib.pyplot as plt\n",
        "import matplotlib.gridspec as gridspec\n",
        "import sklearn\n",
        "from sklearn.metrics import r2_score\n",
        "\n",
        "print('Python version:', sys.version[0:7])\n",
        "print('NumPy version:', np.__version__)\n",
        "print('Pandas version:', pd.__version__)\n",
        "print('Matplotlib version:', matplotlib.__version__)\n",
        "print('Sklearn version:', sklearn.__version__)"
      ],
      "metadata": {
        "colab": {
          "base_uri": "https://localhost:8080/"
        },
        "id": "sxG1mkrZcMBS",
        "outputId": "8a3ad0d2-33b5-4e81-84aa-058b72513fd3"
      },
      "execution_count": 1,
      "outputs": [
        {
          "output_type": "stream",
          "name": "stdout",
          "text": [
            "Python version: 3.10.12\n",
            "NumPy version: 1.23.5\n",
            "Pandas version: 1.5.3\n",
            "Matplotlib version: 3.7.1\n",
            "Sklearn version: 1.2.2\n"
          ]
        }
      ]
    },
    {
      "cell_type": "code",
      "source": [
        "# 範例 : R^2 正負數的可能情境\n",
        "x = range(1, 11)\n",
        "y_true = [1, 2, 3, 4, 5, 6, 5, 4, 3, 2]\n",
        "\n",
        "fig = plt.figure(figsize=(10, 3), constrained_layout=True)\n",
        "gs = gridspec.GridSpec(1, 3, figure=fig)\n",
        "\n",
        "# R^2 > 0\n",
        "ax1 = fig.add_subplot(gs[0, 0])\n",
        "y_pred = [1.5, 1.8, 2.6, 3.7, 5.3, 6.3, 5.5, 3.7, 3.2, 1.7]\n",
        "r2 = r2_score(y_true, y_pred)\n",
        "\n",
        "ax1.axhline(y=np.mean(y_true), color='black', linestyle='--', alpha=0.5)\n",
        "ax1.scatter(x, y_true, color='black', label='Ground Truth')\n",
        "ax1.scatter(x, y_pred, color='red', label='Prediction')\n",
        "ax1.set_ylim([0, 7])\n",
        "ax1.set_xlim([0, 11])\n",
        "ax1.set_xticks(x)\n",
        "ax1.legend(loc=2, fontsize=8)\n",
        "ax1.set_xlabel('X')\n",
        "ax1.set_ylabel('Y')\n",
        "ax1.set_title('R-Squared = '+ str(round(r2, 4)), fontsize=12)\n",
        "\n",
        "# R^2 < 0\n",
        "ax2 = fig.add_subplot(gs[0, 1])\n",
        "y_pred = [4.5, 4.2, 3.3, 2.1, 1.5, 0.9, 2.2, 3.1, 4.8, 5.8]\n",
        "r2 = r2_score(y_true, y_pred)\n",
        "\n",
        "ax2.axhline(y=np.mean(y_true), color='black', linestyle='--', alpha=0.5)\n",
        "ax2.scatter(x, y_true, color='black', label='Ground Truth')\n",
        "ax2.scatter(x, y_pred, color='red', label='Prediction')\n",
        "ax2.set_ylim([0, 7])\n",
        "ax2.set_xlim([0, 11])\n",
        "ax2.set_xticks(x)\n",
        "ax2.legend(loc=2, fontsize=8)\n",
        "ax2.set_xlabel('X')\n",
        "ax2.set_title('R-Squared = '+ str(round(r2, 4)), fontsize=12)\n",
        "\n",
        "# R^2 = -inf\n",
        "ax3 = fig.add_subplot(gs[0, 2])\n",
        "y_true = [np.mean(y_true)] * 10\n",
        "y_pred = [1.5, 1.8, 2.6, 3.7, 5.3, 6.3, 5.5, 3.7, 3.2, 1.7]\n",
        "r2 = r2_score(y_true, y_pred, force_finite=False)\n",
        "\n",
        "ax3.axhline(y=np.mean(y_true), color='black', linestyle='--', alpha=0.5)\n",
        "ax3.scatter(x, y_true, color='black', label='Ground Truth')\n",
        "ax3.scatter(x, y_pred , color='red', label='Prediction')\n",
        "ax3.set_ylim([0, 7])\n",
        "ax3.set_xlim([0, 11])\n",
        "ax3.set_xticks(x)\n",
        "ax3.legend(loc=2, fontsize=8)\n",
        "ax3.set_xlabel('X')\n",
        "ax3.set_title('R-Squared = '+ str(round(r2, 4)), fontsize=12)\n",
        "\n",
        "plt.show()"
      ],
      "metadata": {
        "colab": {
          "base_uri": "https://localhost:8080/",
          "height": 363
        },
        "id": "P56apqwWfq4w",
        "outputId": "c0a082d0-61fb-450a-efc4-1d129d24e6d2"
      },
      "execution_count": 2,
      "outputs": [
        {
          "output_type": "stream",
          "name": "stderr",
          "text": [
            "/usr/local/lib/python3.10/dist-packages/sklearn/metrics/_regression.py:624: RuntimeWarning: divide by zero encountered in divide\n",
            "  output_scores = 1 - (numerator / denominator)\n"
          ]
        },
        {
          "output_type": "display_data",
          "data": {
            "text/plain": [
              "<Figure size 1000x300 with 3 Axes>"
            ],
            "image/png": "[encoded data removed]"
          },
          "metadata": {}
        }
      ]
    }
  ]
}